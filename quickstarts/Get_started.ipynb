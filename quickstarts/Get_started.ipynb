{
  "cells": [
    {
      "cell_type": "code",
      "source": [
        "import requests\n",
        "import logging\n",
        "import csv\n",
        "from google.colab import files\n",
        "from IPython.display import display\n",
        "\n",
        "# Configure logging\n",
        "logging.basicConfig(level=logging.INFO, format='%(asctime)s - %(levelname)s - %(message)s')\n",
        "\n",
        "def fetch_cve_data():\n",
        "    \"\"\"\n",
        "    Fetches CVE data from the NVD API.\n",
        "    Returns a JSON response containing vulnerabilities.\n",
        "    \"\"\"\n",
        "    url = \"https://services.nvd.nist.gov/rest/json/cves/2.0?startIndex=0&resultsPerPage=10\"\n",
        "    logging.info(f\"Fetching data from: {url}\")\n",
        "\n",
        "    try:\n",
        "        response = requests.get(url)\n",
        "        response.raise_for_status()\n",
        "        return response.json()\n",
        "    except requests.exceptions.RequestException as e:\n",
        "        logging.error(f\"Request failed: {e}\")\n",
        "        return None\n",
        "\n",
        "def save_cve_data(cve_data, severity_level):\n",
        "    \"\"\"\n",
        "    Saves CVE data filtered by severity level to a CSV file.\n",
        "    \"\"\"\n",
        "    if cve_data is None:\n",
        "        logging.error(\"Error: cve_data is not available.\")\n",
        "        return\n",
        "\n",
        "    severity_levels = {\"low\": 1, \"medium\": 2, \"high\": 3, \"critical\": 4}\n",
        "    user_severity = severity_levels.get(severity_level.lower(), None)\n",
        "\n",
        "    if user_severity is None:\n",
        "        logging.error(\"Invalid severity level provided. Please choose from low, medium, high, or critical.\")\n",
        "        return\n",
        "\n",
        "    logging.info(\"Processing CVE Data\")\n",
        "    file_name = \"cve_data.csv\"\n",
        "\n",
        "    with open(file_name, mode='w', newline='', encoding='utf-8') as file:\n",
        "        writer = csv.writer(file)\n",
        "        writer.writerow([\"CVE ID\", \"Publish Date\", \"Last Modified\", \"Source\", \"Description\", \"Base Severity\", \"Attack Vector\"])\n",
        "\n",
        "        for item in cve_data.get(\"vulnerabilities\", []):\n",
        "            cve_info = item.get(\"cve\", {})\n",
        "            cve_id = cve_info.get(\"id\", \"N/A\")\n",
        "            publish_date = cve_info.get(\"published\", \"N/A\")\n",
        "            last_modified = cve_info.get(\"lastModified\", \"N/A\")\n",
        "            source = cve_info.get(\"sourceIdentifier\", \"N/A\")\n",
        "            description = cve_info.get(\"descriptions\", [{}])[0].get(\"value\", \"N/A\")\n",
        "\n",
        "            impact = cve_info.get(\"metrics\", {}).get(\"cvssMetricV31\", [{}])[0].get(\"cvssData\", {})\n",
        "            base_severity = impact.get(\"baseSeverity\", \"N/A\")\n",
        "            attack_vector = impact.get(\"attackVector\", \"N/A\")\n",
        "\n",
        "            if base_severity.lower() in severity_levels and severity_levels[base_severity.lower()] >= user_severity:\n",
        "                logging.warning(f\"High severity CVE detected - {cve_id} ({base_severity})\")\n",
        "                writer.writerow([cve_id, publish_date, last_modified, source, description, base_severity, attack_vector])\n",
        "\n",
        "    logging.info(f\"CVE data saved to {file_name}\")\n",
        "    files.download(file_name)\n",
        "\n",
        "def display_cve_data(cve_data, severity_level):\n",
        "    \"\"\"\n",
        "    Displays CVE data filtered by severity level in a structured format.\n",
        "    \"\"\"\n",
        "    if cve_data is None:\n",
        "        logging.error(\"Error: cve_data is not available.\")\n",
        "        return\n",
        "\n",
        "    severity_levels = {\"low\": 1, \"medium\": 2, \"high\": 3, \"critical\": 4}\n",
        "    user_severity = severity_levels.get(severity_level.lower(), None)\n",
        "\n",
        "    if user_severity is None:\n",
        "        logging.error(\"Invalid severity level provided. Please choose from low, medium, high, or critical.\")\n",
        "        return\n",
        "\n",
        "    logging.info(\"Processing CVE Data\")\n",
        "    filtered_data = []\n",
        "\n",
        "    for item in cve_data.get(\"vulnerabilities\", []):\n",
        "        cve_info = item.get(\"cve\", {})\n",
        "        cve_id = cve_info.get(\"id\", \"N/A\")\n",
        "        publish_date = cve_info.get(\"published\", \"N/A\")\n",
        "        last_modified = cve_info.get(\"lastModified\", \"N/A\")\n",
        "        source = cve_info.get(\"sourceIdentifier\", \"N/A\")\n",
        "        description = cve_info.get(\"descriptions\", [{}])[0].get(\"value\", \"N/A\")\n",
        "\n",
        "        impact = cve_info.get(\"metrics\", {}).get(\"cvssMetricV31\", [{}])[0].get(\"cvssData\", {})\n",
        "        base_severity = impact.get(\"baseSeverity\", \"N/A\")\n",
        "        attack_vector = impact.get(\"attackVector\", \"N/A\")\n",
        "\n",
        "        if base_severity.lower() in severity_levels and severity_levels[base_severity.lower()] >= user_severity:\n",
        "            filtered_data.append([cve_id, publish_date, last_modified, source, description, base_severity, attack_vector])\n",
        "\n",
        "    display(filtered_data)  # Display structured output\n",
        "\n",
        "# Set default severity level (Modify as needed)\n",
        "severity_level = \"high\"\n",
        "\n",
        "# Fetch and process CVE data\n",
        "detected_cve_data = fetch_cve_data()\n",
        "display_cve_data(detected_cve_data, severity_level)\n",
        "save_cve_data(detected_cve_data, severity_level)\n",
        "\n",
        "\n"
      ],
      "metadata": {
        "id": "yj1sPP_nERqb",
        "outputId": "61b7d279-6f46-47c5-be6e-86047ccee577",
        "colab": {
          "base_uri": "https://localhost:8080/",
          "height": 173
        }
      },
      "execution_count": 15,
      "outputs": [
        {
          "output_type": "display_data",
          "data": {
            "text/plain": [
              "[['CVE-1999-0084',\n",
              "  '1990-05-01T04:00:00.000',\n",
              "  '2024-11-20T23:27:48.653',\n",
              "  'cve@mitre.org',\n",
              "  'Certain NFS servers allow users to use mknod to gain privileges by creating a writable kmem device and setting the UID to 0.',\n",
              "  'HIGH',\n",
              "  'LOCAL']]"
            ]
          },
          "metadata": {}
        },
        {
          "output_type": "stream",
          "name": "stderr",
          "text": [
            "WARNING:root:High severity CVE detected - CVE-1999-0084 (HIGH)\n"
          ]
        },
        {
          "output_type": "display_data",
          "data": {
            "text/plain": [
              "<IPython.core.display.Javascript object>"
            ],
            "application/javascript": [
              "\n",
              "    async function download(id, filename, size) {\n",
              "      if (!google.colab.kernel.accessAllowed) {\n",
              "        return;\n",
              "      }\n",
              "      const div = document.createElement('div');\n",
              "      const label = document.createElement('label');\n",
              "      label.textContent = `Downloading \"${filename}\": `;\n",
              "      div.appendChild(label);\n",
              "      const progress = document.createElement('progress');\n",
              "      progress.max = size;\n",
              "      div.appendChild(progress);\n",
              "      document.body.appendChild(div);\n",
              "\n",
              "      const buffers = [];\n",
              "      let downloaded = 0;\n",
              "\n",
              "      const channel = await google.colab.kernel.comms.open(id);\n",
              "      // Send a message to notify the kernel that we're ready.\n",
              "      channel.send({})\n",
              "\n",
              "      for await (const message of channel.messages) {\n",
              "        // Send a message to notify the kernel that we're ready.\n",
              "        channel.send({})\n",
              "        if (message.buffers) {\n",
              "          for (const buffer of message.buffers) {\n",
              "            buffers.push(buffer);\n",
              "            downloaded += buffer.byteLength;\n",
              "            progress.value = downloaded;\n",
              "          }\n",
              "        }\n",
              "      }\n",
              "      const blob = new Blob(buffers, {type: 'application/binary'});\n",
              "      const a = document.createElement('a');\n",
              "      a.href = window.URL.createObjectURL(blob);\n",
              "      a.download = filename;\n",
              "      div.appendChild(a);\n",
              "      a.click();\n",
              "      div.remove();\n",
              "    }\n",
              "  "
            ]
          },
          "metadata": {}
        },
        {
          "output_type": "display_data",
          "data": {
            "text/plain": [
              "<IPython.core.display.Javascript object>"
            ],
            "application/javascript": [
              "download(\"download_bcdaa14c-17e9-4525-a850-9c7841453080\", \"cve_data.csv\", 295)"
            ]
          },
          "metadata": {}
        }
      ]
    }
  ],
  "metadata": {
    "colab": {
      "name": "Get_started.ipynb",
      "toc_visible": true,
      "provenance": []
    },
    "kernelspec": {
      "display_name": "Python 3",
      "name": "python3"
    }
  },
  "nbformat": 4,
  "nbformat_minor": 0
}